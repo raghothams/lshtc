{
 "metadata": {
  "name": ""
 },
 "nbformat": 3,
 "nbformat_minor": 0,
 "worksheets": [
  {
   "cells": [
    {
     "cell_type": "markdown",
     "metadata": {},
     "source": [
      "##ZeroMQ Ventilator"
     ]
    },
    {
     "cell_type": "code",
     "collapsed": false,
     "input": [
      "import zmq\n",
      "import random\n",
      "import time\n",
      "\n",
      "SUBSCRIBERS_EXPECTED = 3\n"
     ],
     "language": "python",
     "metadata": {},
     "outputs": [],
     "prompt_number": 1
    },
    {
     "cell_type": "code",
     "collapsed": false,
     "input": [
      "\n",
      "try:\n",
      "    raw_input\n",
      "    \n",
      "except:\n",
      "    raw_input = input\n",
      "    \n",
      "context = zmq.Context()\n",
      "\n",
      "# socket to send messages on\n",
      "sender = context.socket(zmq.PUSH)\n",
      "sender.bind(\"tcp://*:5557\")\n",
      "\n",
      "# socket with direct access to sink: used to synchronise start of batch\n",
      "sink = context.socket(zmq.PUSH)\n",
      "sink.connect(\"tcp://10.53.198.173:5558\")\n",
      "\n",
      "# wait for the workers to start & connect\n",
      "print(\"Press enter when workers are ready\")\n",
      "usr_msg = raw_input()\n",
      "print(\"Sending tasks to workers\")\n",
      "\n",
      "sink.send('0')\n",
      "\n",
      "random.seed()\n",
      "\n",
      "for task_no in range(1, 100):\n",
      "    print task_no\n",
      "    # send file index to read test data\n",
      "    sender.send('%s' % usr_msg)\n",
      "\n",
      "# give ZMQ time to deliver\n",
      "time.sleep(1)\n",
      "print(\"Done filling queue\")\n"
     ],
     "language": "python",
     "metadata": {},
     "outputs": [
      {
       "output_type": "stream",
       "stream": "stdout",
       "text": [
        "Press enter when workers are ready\n"
       ]
      },
      {
       "name": "stdout",
       "output_type": "stream",
       "stream": "stdout",
       "text": [
        "start\n"
       ]
      },
      {
       "output_type": "stream",
       "stream": "stdout",
       "text": [
        "Sending tasks to workers\n",
        "1\n",
        "2\n",
        "3\n",
        "4\n",
        "5\n",
        "6\n",
        "7\n",
        "8\n",
        "9\n",
        "10\n",
        "11\n",
        "12\n",
        "13\n",
        "14\n",
        "15\n",
        "16\n",
        "17\n",
        "18\n",
        "19\n",
        "20\n",
        "21\n",
        "22\n",
        "23\n",
        "24\n",
        "25\n",
        "26\n",
        "27\n",
        "28\n",
        "29\n",
        "30\n",
        "31\n",
        "32\n",
        "33\n",
        "34\n",
        "35\n",
        "36\n",
        "37\n",
        "38\n",
        "39\n",
        "40\n",
        "41\n",
        "42\n",
        "43\n",
        "44\n",
        "45\n",
        "46\n",
        "47\n",
        "48\n",
        "49\n",
        "50\n",
        "51\n",
        "52\n",
        "53\n",
        "54\n",
        "55\n",
        "56\n",
        "57\n",
        "58\n",
        "59\n",
        "60\n",
        "61\n",
        "62\n",
        "63\n",
        "64\n",
        "65\n",
        "66\n",
        "67\n",
        "68\n",
        "69\n",
        "70\n",
        "71\n",
        "72\n",
        "73\n",
        "74\n",
        "75\n",
        "76\n",
        "77\n",
        "78\n",
        "79\n",
        "80\n",
        "81\n",
        "82\n",
        "83\n",
        "84\n",
        "85\n",
        "86\n",
        "87\n",
        "88\n",
        "89\n",
        "90\n",
        "91\n",
        "92\n",
        "93\n",
        "94\n",
        "95\n",
        "96\n",
        "97\n",
        "98\n",
        "99\n",
        "Done filling queue"
       ]
      },
      {
       "output_type": "stream",
       "stream": "stdout",
       "text": [
        "\n"
       ]
      }
     ],
     "prompt_number": 2
    },
    {
     "cell_type": "code",
     "collapsed": false,
     "input": [
      "sender.close()\n",
      "sink.close()"
     ],
     "language": "python",
     "metadata": {},
     "outputs": [],
     "prompt_number": 19
    },
    {
     "cell_type": "code",
     "collapsed": false,
     "input": [],
     "language": "python",
     "metadata": {},
     "outputs": []
    }
   ],
   "metadata": {}
  }
 ]
}