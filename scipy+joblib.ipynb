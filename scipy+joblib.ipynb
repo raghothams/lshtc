{
 "metadata": {
  "name": ""
 },
 "nbformat": 3,
 "nbformat_minor": 0,
 "worksheets": [
  {
   "cells": [
    {
     "cell_type": "code",
     "collapsed": false,
     "input": [
      "from sklearn.datasets import load_svmlight_file"
     ],
     "language": "python",
     "metadata": {},
     "outputs": [],
     "prompt_number": 19
    },
    {
     "cell_type": "code",
     "collapsed": false,
     "input": [
      "from sklearn.externals.joblib import Memory, Parallel, delayed\n",
      "from tempfile import mkdtemp"
     ],
     "language": "python",
     "metadata": {},
     "outputs": [],
     "prompt_number": 20
    },
    {
     "cell_type": "code",
     "collapsed": false,
     "input": [
      "import sys\n",
      "import time\n",
      "import numpy as np\n",
      "\n",
      "from sklearn.datasets import load_svmlight_file\n",
      "from sklearn.externals.joblib import Memory, Parallel, delayed\n",
      "from tempfile import mkdtemp\n",
      "from sklearn import svm\n",
      "\n",
      "\n",
      "# function to read train data\n",
      "# this function call has to be memory mapped by parent \n",
      "#   so that children do not create copies\n",
      "def get_train_data(file_path):\n",
      "    print \"will read now\"\n",
      "    X,y = load_svmlight_file(file_path, multilabel=True)\n",
      "\n",
      "    return X,y\n",
      "\n",
      "\n",
      "# dummy function to call memory mapped function to read training data\n",
      "def child_mode(mem_cached_func, train_file_path, test_file_path, i):\n",
      "    t0 = time.time()\n",
      "    X_train, y_train = mem_cached_func(train_file_path)\n",
      "    print \"train load Done in \", time.time() - t0\n",
      "    print test_file_path+\".\"+str(i)\n",
      "\n",
      "    clf = svm.SVC(kernel='linear')\n",
      "    t0 = time.time()\n",
      "    clf.fit(X_train, y_train)\n",
      "    print time.time()-t0\n",
      "\n",
      "    t0 = time.time()\n",
      "    X_test, y_test = load_svmlight_file(test_file_path+\".\"+str(i),\n",
      "                        multilabel = True, n_features=X_train.shape[1])\n",
      "    print \"test load Done in \", time.time() - t0\n",
      "\n",
      "    t0 = time.time()\n",
      "    Z = clf.predict(X_test)\n",
      "    print \"predicted in \", time.time() - t0\n",
      "\n",
      "    np.savetxt('res.txt.'+str(i), Z, delimiter=\" \", fmt=\"%s\")\n"
     ],
     "language": "python",
     "metadata": {},
     "outputs": [],
     "prompt_number": 25
    },
    {
     "cell_type": "code",
     "collapsed": false,
     "input": [
      "if __name__ == \"__main__\":\n",
      "\n",
      "    if len(sys.argv) == 1:\n",
      "        print \"Usage: \\nmemmap <train-file-path> <test-file-path>\\n\"\n",
      "        exit(\"No file path specified\")\n",
      "\n",
      "    train_file_path = sys.argv[1]\n",
      "    print \"file to be read \",train_file_path\n",
      "\n",
      "    test_file_path = sys.argv[2]\n",
      "    print \"file to be read \",test_file_path\n",
      "\n",
      "# get a temp directory to cache the array\n",
      "    cache_dir = mkdtemp()\n",
      "\n",
      "# get Memory instance\n",
      "    mem = Memory(cachedir=cache_dir, mmap_mode='r', verbose=5)\n",
      "    memmed_getter = mem.cache(get_train_data)\n",
      "\n",
      "    Parallel(n_jobs=3, verbose=3) (delayed(child_mode)\\\n",
      "            (memmed_getter, train_file_path, test_file_path, i) \\\n",
      "            for i in range(1,4))\n",
      "\n",
      "    del memmed_getter\n",
      "    del mem\n",
      "    del cache_dir\n"
     ],
     "language": "python",
     "metadata": {},
     "outputs": []
    }
   ],
   "metadata": {}
  }
 ]
}