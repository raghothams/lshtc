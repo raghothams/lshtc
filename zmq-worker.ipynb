{
 "metadata": {
  "name": ""
 },
 "nbformat": 3,
 "nbformat_minor": 0,
 "worksheets": [
  {
   "cells": [
    {
     "cell_type": "code",
     "collapsed": false,
     "input": [
      "import sys\n",
      "import zmq\n",
      "import time\n",
      "import numpy as np"
     ],
     "language": "python",
     "metadata": {},
     "outputs": [],
     "prompt_number": 3
    },
    {
     "cell_type": "code",
     "collapsed": false,
     "input": [
      "context = zmq.Context()\n",
      "\n",
      "receiver = context.socket(zmq.PULL)\n",
      "receiver.connect(\"tcp://10.53.198.173:5557\")\n",
      "\n",
      "sender = context.socket(zmq.PUSH)\n",
      "sender.connect(\"tcp://10.53.198.173:5558\")\n",
      "\n",
      "while True:\n",
      "    \n",
      "    s = receiver.recv()\n",
      "    with open(\"/home/lroot/code/lshtc/data/small-test.csv\", \"r\") as f:\n",
      "        lines = f.read()\n",
      "        #sender.send(lines)\n",
      "        sender.send_multipart([\"lolmax\", lines])\n",
      "    break\n",
      "        \n",
      "    sys.stdout.write('.')\n",
      "    sys.stdout.flush()\n",
      "    \n",
      "    \n",
      "    # Do the work\n",
      "    #time.sleep(int(s)*0.001)\n",
      "\n",
      "    # Send results to sink\n",
      "    #sender.send(b'')"
     ],
     "language": "python",
     "metadata": {},
     "outputs": [],
     "prompt_number": 4
    },
    {
     "cell_type": "code",
     "collapsed": false,
     "input": [],
     "language": "python",
     "metadata": {},
     "outputs": [],
     "prompt_number": 1
    },
    {
     "cell_type": "code",
     "collapsed": false,
     "input": [
      "with open(\"/home/lroot/code/lshtc/data/small-test.csv\", \"r\") as f:\n",
      "    x = f.readlines(5000)"
     ],
     "language": "python",
     "metadata": {},
     "outputs": [],
     "prompt_number": 5
    },
    {
     "cell_type": "code",
     "collapsed": false,
     "input": [
      "with open(\"/home/lroot/code/lshtc/data/small-test.csv\", \"r\") as f:\n",
      "        lines = f.read()\n",
      "\n"
     ],
     "language": "python",
     "metadata": {},
     "outputs": [],
     "prompt_number": 5
    },
    {
     "cell_type": "code",
     "collapsed": false,
     "input": [
      "type(lines)"
     ],
     "language": "python",
     "metadata": {},
     "outputs": [
      {
       "metadata": {},
       "output_type": "pyout",
       "prompt_number": 7,
       "text": [
        "str"
       ]
      }
     ],
     "prompt_number": 7
    },
    {
     "cell_type": "code",
     "collapsed": false,
     "input": [],
     "language": "python",
     "metadata": {},
     "outputs": []
    }
   ],
   "metadata": {}
  }
 ]
}