{
 "metadata": {
  "name": ""
 },
 "nbformat": 3,
 "nbformat_minor": 0,
 "worksheets": [
  {
   "cells": [
    {
     "cell_type": "code",
     "collapsed": false,
     "input": [
      "from sklearn.datasets import load_svmlight_file\n",
      "from sklearn.naive_bayes import MultinomialNB\n",
      "\n"
     ],
     "language": "python",
     "metadata": {},
     "outputs": [],
     "prompt_number": 1
    },
    {
     "cell_type": "code",
     "collapsed": false,
     "input": [
      "import sys\n",
      "import time\n",
      "import numpy as np\n",
      "\n",
      "from sklearn.datasets import load_svmlight_file\n",
      "from sklearn.externals.joblib import Memory, Parallel, delayed\n",
      "from tempfile import mkdtemp\n",
      "from sklearn import svm\n",
      "\n",
      "\n",
      "# function to read train data\n",
      "# this function call has to be memory mapped by parent \n",
      "#   so that children do not create copies\n",
      "def get_train_data(file_path):\n",
      "    print \"will read now\"\n",
      "    X,y = load_svmlight_file(file_path, multilabel=True)\n",
      "\n",
      "    return X,y\n",
      "\n",
      "\n",
      "# dummy function to call memory mapped function to read training data\n",
      "def child_mode(mem_cached_func, train_file_path, test_file_path, i):\n",
      "    t0 = time.time()\n",
      "    X_train, y_train = mem_cached_func(train_file_path)\n",
      "    print \"train load Done in \", time.time() - t0\n",
      "    print test_file_path+\".\"+str(i)\n",
      "\n",
      "    clf = svm.SVC(kernel='linear')\n",
      "    t0 = time.time()\n",
      "    clf.fit(X_train, y_train)\n",
      "    print time.time()-t0\n",
      "\n",
      "    t0 = time.time()\n",
      "    X_test, y_test = load_svmlight_file(test_file_path+\".\"+str(i),\n",
      "                        multilabel = True, n_features=X_train.shape[1])\n",
      "    print \"test load Done in \", time.time() - t0\n",
      "\n",
      "    t0 = time.time()\n",
      "    Z = clf.predict(X_test)\n",
      "    print \"predicted in \", time.time() - t0\n",
      "\n",
      "    np.savetxt('res.txt.'+str(i), Z, delimiter=\" \", fmt=\"%s\")\n"
     ],
     "language": "python",
     "metadata": {},
     "outputs": []
    },
    {
     "cell_type": "code",
     "collapsed": false,
     "input": [
      "from sklearn.datasets import load_svmlight_file\n",
      "from sklearn.externals.joblib import Memory, Parallel, delayed\n",
      "from tempfile import mkdtemp\n",
      "from sklearn import svm"
     ],
     "language": "python",
     "metadata": {},
     "outputs": [],
     "prompt_number": 2
    },
    {
     "cell_type": "code",
     "collapsed": false,
     "input": [
      "X,y = load_svmlight_file(\"/home/lroot/code/lshtc/data/full-train.csv\", multilabel=True)"
     ],
     "language": "python",
     "metadata": {},
     "outputs": [
      {
       "output_type": "stream",
       "stream": "stderr",
       "text": [
        "/home/lroot/anaconda/lib/python2.7/site-packages/sklearn/datasets/svmlight_format.py:137: DeprecationWarning: using a non-integer number instead of an integer will result in an error in the future\n",
        "  return _load_svmlight_file(f, dtype, multilabel, zero_based, query_id)\n",
        "/home/lroot/anaconda/lib/python2.7/site-packages/sklearn/datasets/svmlight_format.py:137: DeprecationWarning: using a non-integer number instead of an integer will result in an error in the future\n",
        "  return _load_svmlight_file(f, dtype, multilabel, zero_based, query_id)\n",
        "/home/lroot/anaconda/lib/python2.7/site-packages/sklearn/datasets/svmlight_format.py:137: DeprecationWarning: using a non-integer number instead of an integer will result in an error in the future\n",
        "  return _load_svmlight_file(f, dtype, multilabel, zero_based, query_id)\n",
        "/home/lroot/anaconda/lib/python2.7/site-packages/sklearn/datasets/svmlight_format.py:137: DeprecationWarning: using a non-integer number instead of an integer will result in an error in the future\n",
        "  return _load_svmlight_file(f, dtype, multilabel, zero_based, query_id)\n",
        "/home/lroot/anaconda/lib/python2.7/site-packages/sklearn/datasets/svmlight_format.py:137: DeprecationWarning: using a non-integer number instead of an integer will result in an error in the future\n",
        "  return _load_svmlight_file(f, dtype, multilabel, zero_based, query_id)\n",
        "/home/lroot/anaconda/lib/python2.7/site-packages/sklearn/datasets/svmlight_format.py:137: DeprecationWarning: using a non-integer number instead of an integer will result in an error in the future\n",
        "  return _load_svmlight_file(f, dtype, multilabel, zero_based, query_id)\n",
        "/home/lroot/anaconda/lib/python2.7/site-packages/sklearn/datasets/svmlight_format.py:137: DeprecationWarning: using a non-integer number instead of an integer will result in an error in the future\n",
        "  return _load_svmlight_file(f, dtype, multilabel, zero_based, query_id)\n",
        "/home/lroot/anaconda/lib/python2.7/site-packages/sklearn/datasets/svmlight_format.py:137: DeprecationWarning: using a non-integer number instead of an integer will result in an error in the future\n",
        "  return _load_svmlight_file(f, dtype, multilabel, zero_based, query_id)\n",
        "/home/lroot/anaconda/lib/python2.7/site-packages/sklearn/datasets/svmlight_format.py:137: DeprecationWarning: using a non-integer number instead of an integer will result in an error in the future\n",
        "  return _load_svmlight_file(f, dtype, multilabel, zero_based, query_id)\n",
        "/home/lroot/anaconda/lib/python2.7/site-packages/sklearn/datasets/svmlight_format.py:137: DeprecationWarning: using a non-integer number instead of an integer will result in an error in the future\n",
        "  return _load_svmlight_file(f, dtype, multilabel, zero_based, query_id)\n",
        "/home/lroot/anaconda/lib/python2.7/site-packages/sklearn/datasets/svmlight_format.py:137: DeprecationWarning: using a non-integer number instead of an integer will result in an error in the future\n",
        "  return _load_svmlight_file(f, dtype, multilabel, zero_based, query_id)\n",
        "/home/lroot/anaconda/lib/python2.7/site-packages/sklearn/datasets/svmlight_format.py:137: DeprecationWarning: using a non-integer number instead of an integer will result in an error in the future\n",
        "  return _load_svmlight_file(f, dtype, multilabel, zero_based, query_id)\n",
        "/home/lroot/anaconda/lib/python2.7/site-packages/sklearn/datasets/svmlight_format.py:137: DeprecationWarning: using a non-integer number instead of an integer will result in an error in the future\n",
        "  return _load_svmlight_file(f, dtype, multilabel, zero_based, query_id)\n",
        "/home/lroot/anaconda/lib/python2.7/site-packages/sklearn/datasets/svmlight_format.py:137: DeprecationWarning: using a non-integer number instead of an integer will result in an error in the future\n",
        "  return _load_svmlight_file(f, dtype, multilabel, zero_based, query_id)\n",
        "/home/lroot/anaconda/lib/python2.7/site-packages/sklearn/datasets/svmlight_format.py:137: DeprecationWarning: using a non-integer number instead of an integer will result in an error in the future\n",
        "  return _load_svmlight_file(f, dtype, multilabel, zero_based, query_id)\n",
        "/home/lroot/anaconda/lib/python2.7/site-packages/sklearn/datasets/svmlight_format.py:137: DeprecationWarning: using a non-integer number instead of an integer will result in an error in the future\n",
        "  return _load_svmlight_file(f, dtype, multilabel, zero_based, query_id)\n",
        "/home/lroot/anaconda/lib/python2.7/site-packages/sklearn/datasets/svmlight_format.py:137: DeprecationWarning: using a non-integer number instead of an integer will result in an error in the future\n",
        "  return _load_svmlight_file(f, dtype, multilabel, zero_based, query_id)\n"
       ]
      },
      {
       "output_type": "stream",
       "stream": "stderr",
       "text": [
        "/home/lroot/anaconda/lib/python2.7/site-packages/sklearn/datasets/svmlight_format.py:137: DeprecationWarning: using a non-integer number instead of an integer will result in an error in the future\n",
        "  return _load_svmlight_file(f, dtype, multilabel, zero_based, query_id)\n",
        "/home/lroot/anaconda/lib/python2.7/site-packages/sklearn/datasets/svmlight_format.py:137: DeprecationWarning: using a non-integer number instead of an integer will result in an error in the future\n",
        "  return _load_svmlight_file(f, dtype, multilabel, zero_based, query_id)\n",
        "/home/lroot/anaconda/lib/python2.7/site-packages/sklearn/datasets/svmlight_format.py:137: DeprecationWarning: using a non-integer number instead of an integer will result in an error in the future\n",
        "  return _load_svmlight_file(f, dtype, multilabel, zero_based, query_id)\n",
        "/home/lroot/anaconda/lib/python2.7/site-packages/sklearn/datasets/svmlight_format.py:137: DeprecationWarning: using a non-integer number instead of an integer will result in an error in the future\n",
        "  return _load_svmlight_file(f, dtype, multilabel, zero_based, query_id)\n"
       ]
      },
      {
       "output_type": "stream",
       "stream": "stderr",
       "text": [
        "/home/lroot/anaconda/lib/python2.7/site-packages/sklearn/datasets/svmlight_format.py:137: DeprecationWarning: using a non-integer number instead of an integer will result in an error in the future\n",
        "  return _load_svmlight_file(f, dtype, multilabel, zero_based, query_id)\n",
        "/home/lroot/anaconda/lib/python2.7/site-packages/sklearn/datasets/svmlight_format.py:137: DeprecationWarning: using a non-integer number instead of an integer will result in an error in the future\n",
        "  return _load_svmlight_file(f, dtype, multilabel, zero_based, query_id)\n",
        "/home/lroot/anaconda/lib/python2.7/site-packages/sklearn/datasets/svmlight_format.py:137: DeprecationWarning: using a non-integer number instead of an integer will result in an error in the future\n",
        "  return _load_svmlight_file(f, dtype, multilabel, zero_based, query_id)\n"
       ]
      },
      {
       "output_type": "stream",
       "stream": "stderr",
       "text": [
        "/home/lroot/anaconda/lib/python2.7/site-packages/sklearn/datasets/svmlight_format.py:137: DeprecationWarning: using a non-integer number instead of an integer will result in an error in the future\n",
        "  return _load_svmlight_file(f, dtype, multilabel, zero_based, query_id)\n",
        "/home/lroot/anaconda/lib/python2.7/site-packages/sklearn/datasets/svmlight_format.py:137: DeprecationWarning: using a non-integer number instead of an integer will result in an error in the future\n",
        "  return _load_svmlight_file(f, dtype, multilabel, zero_based, query_id)\n",
        "/home/lroot/anaconda/lib/python2.7/site-packages/sklearn/datasets/svmlight_format.py:137: DeprecationWarning: using a non-integer number instead of an integer will result in an error in the future\n",
        "  return _load_svmlight_file(f, dtype, multilabel, zero_based, query_id)\n"
       ]
      },
      {
       "output_type": "stream",
       "stream": "stderr",
       "text": [
        "/home/lroot/anaconda/lib/python2.7/site-packages/sklearn/datasets/svmlight_format.py:137: DeprecationWarning: using a non-integer number instead of an integer will result in an error in the future\n",
        "  return _load_svmlight_file(f, dtype, multilabel, zero_based, query_id)\n",
        "/home/lroot/anaconda/lib/python2.7/site-packages/sklearn/datasets/svmlight_format.py:137: DeprecationWarning: using a non-integer number instead of an integer will result in an error in the future\n",
        "  return _load_svmlight_file(f, dtype, multilabel, zero_based, query_id)\n"
       ]
      },
      {
       "output_type": "stream",
       "stream": "stderr",
       "text": [
        "/home/lroot/anaconda/lib/python2.7/site-packages/sklearn/datasets/svmlight_format.py:137: DeprecationWarning: using a non-integer number instead of an integer will result in an error in the future\n",
        "  return _load_svmlight_file(f, dtype, multilabel, zero_based, query_id)\n",
        "/home/lroot/anaconda/lib/python2.7/site-packages/sklearn/datasets/svmlight_format.py:137: DeprecationWarning: using a non-integer number instead of an integer will result in an error in the future\n",
        "  return _load_svmlight_file(f, dtype, multilabel, zero_based, query_id)\n",
        "/home/lroot/anaconda/lib/python2.7/site-packages/sklearn/datasets/svmlight_format.py:137: DeprecationWarning: using a non-integer number instead of an integer will result in an error in the future\n",
        "  return _load_svmlight_file(f, dtype, multilabel, zero_based, query_id)\n"
       ]
      },
      {
       "output_type": "stream",
       "stream": "stderr",
       "text": [
        "/home/lroot/anaconda/lib/python2.7/site-packages/sklearn/datasets/svmlight_format.py:137: DeprecationWarning: using a non-integer number instead of an integer will result in an error in the future\n",
        "  return _load_svmlight_file(f, dtype, multilabel, zero_based, query_id)\n",
        "/home/lroot/anaconda/lib/python2.7/site-packages/sklearn/datasets/svmlight_format.py:137: DeprecationWarning: using a non-integer number instead of an integer will result in an error in the future\n",
        "  return _load_svmlight_file(f, dtype, multilabel, zero_based, query_id)\n",
        "/home/lroot/anaconda/lib/python2.7/site-packages/sklearn/datasets/svmlight_format.py:137: DeprecationWarning: using a non-integer number instead of an integer will result in an error in the future\n",
        "  return _load_svmlight_file(f, dtype, multilabel, zero_based, query_id)\n"
       ]
      },
      {
       "output_type": "stream",
       "stream": "stderr",
       "text": [
        "/home/lroot/anaconda/lib/python2.7/site-packages/sklearn/datasets/svmlight_format.py:137: DeprecationWarning: using a non-integer number instead of an integer will result in an error in the future\n",
        "  return _load_svmlight_file(f, dtype, multilabel, zero_based, query_id)\n",
        "/home/lroot/anaconda/lib/python2.7/site-packages/sklearn/datasets/svmlight_format.py:137: DeprecationWarning: using a non-integer number instead of an integer will result in an error in the future\n",
        "  return _load_svmlight_file(f, dtype, multilabel, zero_based, query_id)\n",
        "/home/lroot/anaconda/lib/python2.7/site-packages/sklearn/datasets/svmlight_format.py:137: DeprecationWarning: using a non-integer number instead of an integer will result in an error in the future\n",
        "  return _load_svmlight_file(f, dtype, multilabel, zero_based, query_id)\n"
       ]
      },
      {
       "output_type": "stream",
       "stream": "stderr",
       "text": [
        "/home/lroot/anaconda/lib/python2.7/site-packages/sklearn/datasets/svmlight_format.py:137: DeprecationWarning: using a non-integer number instead of an integer will result in an error in the future\n",
        "  return _load_svmlight_file(f, dtype, multilabel, zero_based, query_id)\n",
        "/home/lroot/anaconda/lib/python2.7/site-packages/sklearn/datasets/svmlight_format.py:137: DeprecationWarning: using a non-integer number instead of an integer will result in an error in the future\n",
        "  return _load_svmlight_file(f, dtype, multilabel, zero_based, query_id)\n",
        "/home/lroot/anaconda/lib/python2.7/site-packages/sklearn/datasets/svmlight_format.py:137: DeprecationWarning: using a non-integer number instead of an integer will result in an error in the future\n",
        "  return _load_svmlight_file(f, dtype, multilabel, zero_based, query_id)\n"
       ]
      },
      {
       "output_type": "stream",
       "stream": "stderr",
       "text": [
        "/home/lroot/anaconda/lib/python2.7/site-packages/sklearn/datasets/svmlight_format.py:137: DeprecationWarning: using a non-integer number instead of an integer will result in an error in the future\n",
        "  return _load_svmlight_file(f, dtype, multilabel, zero_based, query_id)\n",
        "/home/lroot/anaconda/lib/python2.7/site-packages/sklearn/datasets/svmlight_format.py:137: DeprecationWarning: using a non-integer number instead of an integer will result in an error in the future\n",
        "  return _load_svmlight_file(f, dtype, multilabel, zero_based, query_id)\n",
        "/home/lroot/anaconda/lib/python2.7/site-packages/sklearn/datasets/svmlight_format.py:137: DeprecationWarning: using a non-integer number instead of an integer will result in an error in the future\n",
        "  return _load_svmlight_file(f, dtype, multilabel, zero_based, query_id)\n"
       ]
      },
      {
       "output_type": "stream",
       "stream": "stderr",
       "text": [
        "/home/lroot/anaconda/lib/python2.7/site-packages/sklearn/datasets/svmlight_format.py:137: DeprecationWarning: using a non-integer number instead of an integer will result in an error in the future\n",
        "  return _load_svmlight_file(f, dtype, multilabel, zero_based, query_id)\n",
        "/home/lroot/anaconda/lib/python2.7/site-packages/sklearn/datasets/svmlight_format.py:137: DeprecationWarning: using a non-integer number instead of an integer will result in an error in the future\n",
        "  return _load_svmlight_file(f, dtype, multilabel, zero_based, query_id)\n",
        "/home/lroot/anaconda/lib/python2.7/site-packages/sklearn/datasets/svmlight_format.py:137: DeprecationWarning: using a non-integer number instead of an integer will result in an error in the future\n",
        "  return _load_svmlight_file(f, dtype, multilabel, zero_based, query_id)\n"
       ]
      },
      {
       "output_type": "stream",
       "stream": "stderr",
       "text": [
        "/home/lroot/anaconda/lib/python2.7/site-packages/sklearn/datasets/svmlight_format.py:137: DeprecationWarning: using a non-integer number instead of an integer will result in an error in the future\n",
        "  return _load_svmlight_file(f, dtype, multilabel, zero_based, query_id)\n",
        "/home/lroot/anaconda/lib/python2.7/site-packages/sklearn/datasets/svmlight_format.py:137: DeprecationWarning: using a non-integer number instead of an integer will result in an error in the future\n",
        "  return _load_svmlight_file(f, dtype, multilabel, zero_based, query_id)\n",
        "/home/lroot/anaconda/lib/python2.7/site-packages/sklearn/datasets/svmlight_format.py:137: DeprecationWarning: using a non-integer number instead of an integer will result in an error in the future\n",
        "  return _load_svmlight_file(f, dtype, multilabel, zero_based, query_id)\n"
       ]
      },
      {
       "output_type": "stream",
       "stream": "stderr",
       "text": [
        "/home/lroot/anaconda/lib/python2.7/site-packages/sklearn/datasets/svmlight_format.py:137: DeprecationWarning: using a non-integer number instead of an integer will result in an error in the future\n",
        "  return _load_svmlight_file(f, dtype, multilabel, zero_based, query_id)\n",
        "/home/lroot/anaconda/lib/python2.7/site-packages/sklearn/datasets/svmlight_format.py:137: DeprecationWarning: using a non-integer number instead of an integer will result in an error in the future\n",
        "  return _load_svmlight_file(f, dtype, multilabel, zero_based, query_id)\n",
        "/home/lroot/anaconda/lib/python2.7/site-packages/sklearn/datasets/svmlight_format.py:137: DeprecationWarning: using a non-integer number instead of an integer will result in an error in the future\n",
        "  return _load_svmlight_file(f, dtype, multilabel, zero_based, query_id)\n"
       ]
      },
      {
       "output_type": "stream",
       "stream": "stderr",
       "text": [
        "/home/lroot/anaconda/lib/python2.7/site-packages/sklearn/datasets/svmlight_format.py:137: DeprecationWarning: using a non-integer number instead of an integer will result in an error in the future\n",
        "  return _load_svmlight_file(f, dtype, multilabel, zero_based, query_id)\n",
        "/home/lroot/anaconda/lib/python2.7/site-packages/sklearn/datasets/svmlight_format.py:137: DeprecationWarning: using a non-integer number instead of an integer will result in an error in the future\n",
        "  return _load_svmlight_file(f, dtype, multilabel, zero_based, query_id)\n",
        "/home/lroot/anaconda/lib/python2.7/site-packages/sklearn/datasets/svmlight_format.py:137: DeprecationWarning: using a non-integer number instead of an integer will result in an error in the future\n",
        "  return _load_svmlight_file(f, dtype, multilabel, zero_based, query_id)\n"
       ]
      },
      {
       "output_type": "stream",
       "stream": "stderr",
       "text": [
        "/home/lroot/anaconda/lib/python2.7/site-packages/sklearn/datasets/svmlight_format.py:137: DeprecationWarning: using a non-integer number instead of an integer will result in an error in the future\n",
        "  return _load_svmlight_file(f, dtype, multilabel, zero_based, query_id)\n",
        "/home/lroot/anaconda/lib/python2.7/site-packages/sklearn/datasets/svmlight_format.py:137: DeprecationWarning: using a non-integer number instead of an integer will result in an error in the future\n",
        "  return _load_svmlight_file(f, dtype, multilabel, zero_based, query_id)\n",
        "/home/lroot/anaconda/lib/python2.7/site-packages/sklearn/datasets/svmlight_format.py:137: DeprecationWarning: using a non-integer number instead of an integer will result in an error in the future\n",
        "  return _load_svmlight_file(f, dtype, multilabel, zero_based, query_id)\n"
       ]
      },
      {
       "output_type": "stream",
       "stream": "stderr",
       "text": [
        "/home/lroot/anaconda/lib/python2.7/site-packages/sklearn/datasets/svmlight_format.py:137: DeprecationWarning: using a non-integer number instead of an integer will result in an error in the future\n",
        "  return _load_svmlight_file(f, dtype, multilabel, zero_based, query_id)\n",
        "/home/lroot/anaconda/lib/python2.7/site-packages/sklearn/datasets/svmlight_format.py:137: DeprecationWarning: using a non-integer number instead of an integer will result in an error in the future\n",
        "  return _load_svmlight_file(f, dtype, multilabel, zero_based, query_id)\n"
       ]
      },
      {
       "output_type": "stream",
       "stream": "stderr",
       "text": [
        "/home/lroot/anaconda/lib/python2.7/site-packages/sklearn/datasets/svmlight_format.py:137: DeprecationWarning: using a non-integer number instead of an integer will result in an error in the future\n",
        "  return _load_svmlight_file(f, dtype, multilabel, zero_based, query_id)\n",
        "/home/lroot/anaconda/lib/python2.7/site-packages/sklearn/datasets/svmlight_format.py:137: DeprecationWarning: using a non-integer number instead of an integer will result in an error in the future\n",
        "  return _load_svmlight_file(f, dtype, multilabel, zero_based, query_id)\n"
       ]
      },
      {
       "output_type": "stream",
       "stream": "stderr",
       "text": [
        "/home/lroot/anaconda/lib/python2.7/site-packages/sklearn/datasets/svmlight_format.py:137: DeprecationWarning: using a non-integer number instead of an integer will result in an error in the future\n",
        "  return _load_svmlight_file(f, dtype, multilabel, zero_based, query_id)\n",
        "/home/lroot/anaconda/lib/python2.7/site-packages/sklearn/datasets/svmlight_format.py:137: DeprecationWarning: using a non-integer number instead of an integer will result in an error in the future\n",
        "  return _load_svmlight_file(f, dtype, multilabel, zero_based, query_id)\n",
        "/home/lroot/anaconda/lib/python2.7/site-packages/sklearn/datasets/svmlight_format.py:137: DeprecationWarning: using a non-integer number instead of an integer will result in an error in the future\n",
        "  return _load_svmlight_file(f, dtype, multilabel, zero_based, query_id)\n"
       ]
      },
      {
       "output_type": "stream",
       "stream": "stderr",
       "text": [
        "/home/lroot/anaconda/lib/python2.7/site-packages/sklearn/datasets/svmlight_format.py:137: DeprecationWarning: using a non-integer number instead of an integer will result in an error in the future\n",
        "  return _load_svmlight_file(f, dtype, multilabel, zero_based, query_id)\n",
        "/home/lroot/anaconda/lib/python2.7/site-packages/sklearn/datasets/svmlight_format.py:137: DeprecationWarning: using a non-integer number instead of an integer will result in an error in the future\n",
        "  return _load_svmlight_file(f, dtype, multilabel, zero_based, query_id)\n",
        "/home/lroot/anaconda/lib/python2.7/site-packages/sklearn/datasets/svmlight_format.py:137: DeprecationWarning: using a non-integer number instead of an integer will result in an error in the future\n",
        "  return _load_svmlight_file(f, dtype, multilabel, zero_based, query_id)\n"
       ]
      },
      {
       "output_type": "stream",
       "stream": "stderr",
       "text": [
        "/home/lroot/anaconda/lib/python2.7/site-packages/sklearn/datasets/svmlight_format.py:137: DeprecationWarning: using a non-integer number instead of an integer will result in an error in the future\n",
        "  return _load_svmlight_file(f, dtype, multilabel, zero_based, query_id)\n",
        "/home/lroot/anaconda/lib/python2.7/site-packages/sklearn/datasets/svmlight_format.py:137: DeprecationWarning: using a non-integer number instead of an integer will result in an error in the future\n",
        "  return _load_svmlight_file(f, dtype, multilabel, zero_based, query_id)\n",
        "/home/lroot/anaconda/lib/python2.7/site-packages/sklearn/datasets/svmlight_format.py:137: DeprecationWarning: using a non-integer number instead of an integer will result in an error in the future\n",
        "  return _load_svmlight_file(f, dtype, multilabel, zero_based, query_id)\n"
       ]
      },
      {
       "output_type": "stream",
       "stream": "stderr",
       "text": [
        "/home/lroot/anaconda/lib/python2.7/site-packages/sklearn/datasets/svmlight_format.py:137: DeprecationWarning: using a non-integer number instead of an integer will result in an error in the future\n",
        "  return _load_svmlight_file(f, dtype, multilabel, zero_based, query_id)\n",
        "/home/lroot/anaconda/lib/python2.7/site-packages/sklearn/datasets/svmlight_format.py:137: DeprecationWarning: using a non-integer number instead of an integer will result in an error in the future\n",
        "  return _load_svmlight_file(f, dtype, multilabel, zero_based, query_id)\n",
        "/home/lroot/anaconda/lib/python2.7/site-packages/sklearn/datasets/svmlight_format.py:137: DeprecationWarning: using a non-integer number instead of an integer will result in an error in the future\n",
        "  return _load_svmlight_file(f, dtype, multilabel, zero_based, query_id)\n"
       ]
      },
      {
       "output_type": "stream",
       "stream": "stderr",
       "text": [
        "/home/lroot/anaconda/lib/python2.7/site-packages/sklearn/datasets/svmlight_format.py:137: DeprecationWarning: using a non-integer number instead of an integer will result in an error in the future\n",
        "  return _load_svmlight_file(f, dtype, multilabel, zero_based, query_id)\n",
        "/home/lroot/anaconda/lib/python2.7/site-packages/sklearn/datasets/svmlight_format.py:137: DeprecationWarning: using a non-integer number instead of an integer will result in an error in the future\n",
        "  return _load_svmlight_file(f, dtype, multilabel, zero_based, query_id)\n",
        "/home/lroot/anaconda/lib/python2.7/site-packages/sklearn/datasets/svmlight_format.py:137: DeprecationWarning: using a non-integer number instead of an integer will result in an error in the future\n",
        "  return _load_svmlight_file(f, dtype, multilabel, zero_based, query_id)\n"
       ]
      },
      {
       "output_type": "stream",
       "stream": "stderr",
       "text": [
        "/home/lroot/anaconda/lib/python2.7/site-packages/sklearn/datasets/svmlight_format.py:137: DeprecationWarning: using a non-integer number instead of an integer will result in an error in the future\n",
        "  return _load_svmlight_file(f, dtype, multilabel, zero_based, query_id)\n",
        "/home/lroot/anaconda/lib/python2.7/site-packages/sklearn/datasets/svmlight_format.py:137: DeprecationWarning: using a non-integer number instead of an integer will result in an error in the future\n",
        "  return _load_svmlight_file(f, dtype, multilabel, zero_based, query_id)\n"
       ]
      },
      {
       "output_type": "stream",
       "stream": "stderr",
       "text": [
        "/home/lroot/anaconda/lib/python2.7/site-packages/sklearn/datasets/svmlight_format.py:137: DeprecationWarning: using a non-integer number instead of an integer will result in an error in the future\n",
        "  return _load_svmlight_file(f, dtype, multilabel, zero_based, query_id)\n",
        "/home/lroot/anaconda/lib/python2.7/site-packages/sklearn/datasets/svmlight_format.py:137: DeprecationWarning: using a non-integer number instead of an integer will result in an error in the future\n",
        "  return _load_svmlight_file(f, dtype, multilabel, zero_based, query_id)\n"
       ]
      },
      {
       "output_type": "stream",
       "stream": "stderr",
       "text": [
        "/home/lroot/anaconda/lib/python2.7/site-packages/sklearn/datasets/svmlight_format.py:137: DeprecationWarning: using a non-integer number instead of an integer will result in an error in the future\n",
        "  return _load_svmlight_file(f, dtype, multilabel, zero_based, query_id)\n",
        "/home/lroot/anaconda/lib/python2.7/site-packages/sklearn/datasets/svmlight_format.py:137: DeprecationWarning: using a non-integer number instead of an integer will result in an error in the future\n",
        "  return _load_svmlight_file(f, dtype, multilabel, zero_based, query_id)\n"
       ]
      },
      {
       "output_type": "stream",
       "stream": "stderr",
       "text": [
        "/home/lroot/anaconda/lib/python2.7/site-packages/sklearn/datasets/svmlight_format.py:137: DeprecationWarning: using a non-integer number instead of an integer will result in an error in the future\n",
        "  return _load_svmlight_file(f, dtype, multilabel, zero_based, query_id)\n",
        "/home/lroot/anaconda/lib/python2.7/site-packages/sklearn/datasets/svmlight_format.py:137: DeprecationWarning: using a non-integer number instead of an integer will result in an error in the future\n",
        "  return _load_svmlight_file(f, dtype, multilabel, zero_based, query_id)\n"
       ]
      },
      {
       "output_type": "stream",
       "stream": "stderr",
       "text": [
        "/home/lroot/anaconda/lib/python2.7/site-packages/sklearn/datasets/svmlight_format.py:137: DeprecationWarning: using a non-integer number instead of an integer will result in an error in the future\n",
        "  return _load_svmlight_file(f, dtype, multilabel, zero_based, query_id)\n"
       ]
      }
     ],
     "prompt_number": 3
    },
    {
     "cell_type": "code",
     "collapsed": false,
     "input": [
      "X.shape[1]\n"
     ],
     "language": "python",
     "metadata": {},
     "outputs": [
      {
       "metadata": {},
       "output_type": "pyout",
       "prompt_number": 6,
       "text": [
        "1617899"
       ]
      }
     ],
     "prompt_number": 6
    },
    {
     "cell_type": "code",
     "collapsed": false,
     "input": [],
     "language": "python",
     "metadata": {},
     "outputs": []
    }
   ],
   "metadata": {}
  }
 ]
}