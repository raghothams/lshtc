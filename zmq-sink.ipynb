{
 "metadata": {
  "name": ""
 },
 "nbformat": 3,
 "nbformat_minor": 0,
 "worksheets": [
  {
   "cells": [
    {
     "cell_type": "markdown",
     "metadata": {},
     "source": [
      "## ZMQ sink"
     ]
    },
    {
     "cell_type": "code",
     "collapsed": false,
     "input": [
      "import zmq\n",
      "import sys\n",
      "import time\n",
      "\n",
      "\n"
     ],
     "language": "python",
     "metadata": {},
     "outputs": [],
     "prompt_number": 1
    },
    {
     "cell_type": "code",
     "collapsed": false,
     "input": [
      "context = zmq.Context()\n",
      "\n",
      "receiver = context.socket(zmq.PULL)\n",
      "receiver.bind(\"tcp://*:5558\")\n",
      "\n",
      "s = receiver.recv()\n",
      "\n",
      "\n",
      "tstart = time.time()\n",
      "\n",
      "total_msecs = 0\n",
      "for task_no in range(100):\n",
      "    \n",
      "    multipart_msg = receiver.recv_multipart()\n",
      "    meta_data = multipart_msg[0]\n",
      "    data = multipart_msg[1]\n",
      "    print \"meta data -\"+meta_data\n",
      "    print data\n",
      "    break\n",
      "    if task_no%10 == 0:\n",
      "        sys.stdout.write(\":\")\n",
      "        \n",
      "    else:\n",
      "        sys.stdout.write(\".\")\n",
      "    sys.stdout.flush()\n",
      "    \n",
      "    tend = time.time()\n",
      "    print(\"Total elapsed time: %d msec\" % ((tend-tstart)*1000))\n",
      "    "
     ],
     "language": "python",
     "metadata": {},
     "outputs": [],
     "prompt_number": "*"
    },
    {
     "cell_type": "code",
     "collapsed": false,
     "input": [
      "receiver."
     ],
     "language": "python",
     "metadata": {},
     "outputs": []
    },
    {
     "cell_type": "code",
     "collapsed": false,
     "input": [],
     "language": "python",
     "metadata": {},
     "outputs": []
    }
   ],
   "metadata": {}
  }
 ]
}